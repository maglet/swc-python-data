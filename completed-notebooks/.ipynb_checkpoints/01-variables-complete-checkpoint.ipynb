{
 "cells": [
  {
   "cell_type": "markdown",
   "metadata": {},
   "source": [
    "# Variables and Assignment\n",
    "## How can I store data in programs?\n",
    "\n",
    "### Objectives\n",
    "* Assign values into variables\n",
    "* Perform calculations on those variable values\n",
    "* Trace changes in variable values after assignment\n"
   ]
  },
  {
   "cell_type": "markdown",
   "metadata": {},
   "source": [
    "# Variables\n",
    "* aka names for values\n",
    "* = operator assigns values to variables\n",
    "* creates a variable if that name "
   ]
  },
  {
   "cell_type": "code",
   "execution_count": 2,
   "metadata": {},
   "outputs": [],
   "source": [
    "age = 37 #creates the variable age with the value 37\n",
    "first_name = \"Tobin\" # creates variable 'first_name' with the value 'Tobin'\n"
   ]
  },
  {
   "cell_type": "markdown",
   "metadata": {},
   "source": [
    "## variable names...\n",
    "* only contain letters, digits and underscores\n",
    "* can't start with a digit, \n",
    "* only start with underscores in **special cases**\n",
    "* are case sensitive (AGE and Age are different)"
   ]
  },
  {
   "cell_type": "markdown",
   "metadata": {},
   "source": [
    "#### Variables must ve created before they are named"
   ]
  },
  {
   "cell_type": "code",
   "execution_count": 3,
   "metadata": {},
   "outputs": [
    {
     "name": "stdout",
     "output_type": "stream",
     "text": [
      "Tobin\n",
      "Magle\n"
     ]
    }
   ],
   "source": [
    "print(first_name) # works\n",
    "print(last_name) # doesn't exist -> doesn't work"
   ]
  },
  {
   "cell_type": "markdown",
   "metadata": {},
   "source": [
    "#### Error message protip: Look at the last line first"
   ]
  },
  {
   "cell_type": "code",
   "execution_count": 4,
   "metadata": {},
   "outputs": [
    {
     "name": "stdout",
     "output_type": "stream",
     "text": [
      "Tobin Magle\n"
     ]
    }
   ],
   "source": [
    "last_name = 'Magle'\n",
    "print(first_name + ' ' +last_name)"
   ]
  },
  {
   "cell_type": "markdown",
   "metadata": {},
   "source": [
    "### Variables can be used in calculations\n",
    "\n"
   ]
  },
  {
   "cell_type": "code",
   "execution_count": 5,
   "metadata": {},
   "outputs": [
    {
     "name": "stdout",
     "output_type": "stream",
     "text": [
      "Age next year:  38\n"
     ]
    }
   ],
   "source": [
    "age_next_year = age + 1\n",
    "\n",
    "print('Age next year: ', age_next_year)"
   ]
  },
  {
   "cell_type": "markdown",
   "metadata": {},
   "source": [
    "### You can overwrite values in variables"
   ]
  },
  {
   "cell_type": "code",
   "execution_count": 6,
   "metadata": {},
   "outputs": [
    {
     "name": "stdout",
     "output_type": "stream",
     "text": [
      "Happy Birthday! You are now:  38\n"
     ]
    }
   ],
   "source": [
    "age = age + 1\n",
    "\n",
    "print('Happy Birthday! You are now: ', age)"
   ]
  },
  {
   "cell_type": "markdown",
   "metadata": {},
   "source": [
    "# Exercise! \n",
    "\n",
    "**What is the final value of position in the program below? (Try to predict the value without running the program, then check your prediction.)**\n",
    "\n",
    "```\n",
    "initial = 'left'\n",
    "position = initial\n",
    "initial = 'right'\n",
    "```"
   ]
  },
  {
   "cell_type": "markdown",
   "metadata": {},
   "source": [
    "# Answer\n",
    "\n",
    "left"
   ]
  },
  {
   "cell_type": "markdown",
   "metadata": {},
   "source": [
    "# Subsetting\n",
    "\n",
    "## Subsetting characters from strings\n",
    "* result is called a substring\n",
    "* indexing in python starts at 0 \n",
    "\n",
    "#### use an index to get one character from a string"
   ]
  },
  {
   "cell_type": "code",
   "execution_count": 8,
   "metadata": {},
   "outputs": [
    {
     "name": "stdout",
     "output_type": "stream",
     "text": [
      "h\n"
     ]
    }
   ],
   "source": [
    "atom_name = 'helium' # creates a new variable 'atom_name'\n",
    "print(atom_name[0])     #prints first character "
   ]
  },
  {
   "cell_type": "markdown",
   "metadata": {},
   "source": [
    "#### Subsetting a range of characters\n",
    "* use the : operator\n",
    "* Syntax: [start:stop]\n",
    "    * start is the first character you want\n",
    "    * stop is the character after the last character you want \n"
   ]
  },
  {
   "cell_type": "code",
   "execution_count": 9,
   "metadata": {},
   "outputs": [
    {
     "name": "stdout",
     "output_type": "stream",
     "text": [
      "sod\n"
     ]
    }
   ],
   "source": [
    "atom_name = 'sodium'\n",
    "print(atom_name[0:3])"
   ]
  },
  {
   "cell_type": "markdown",
   "metadata": {},
   "source": [
    "### Find the length of a string\n",
    "\n",
    "use 'len'"
   ]
  },
  {
   "cell_type": "code",
   "execution_count": 10,
   "metadata": {},
   "outputs": [
    {
     "name": "stdout",
     "output_type": "stream",
     "text": [
      "6\n"
     ]
    }
   ],
   "source": [
    "print(len(atom_name))"
   ]
  },
  {
   "cell_type": "code",
   "execution_count": 11,
   "metadata": {},
   "outputs": [
    {
     "name": "stdout",
     "output_type": "stream",
     "text": [
      "6\n"
     ]
    }
   ],
   "source": [
    "print(len('helium'))"
   ]
  },
  {
   "cell_type": "markdown",
   "metadata": {},
   "source": [
    "# Exercise\n",
    "\n",
    "**What does the following program print?**\n",
    "\n",
    "```\n",
    "atom_name = 'carbon'\n",
    "print('atom_name[1:3] is:', atom_name[1:3])\n",
    "```"
   ]
  },
  {
   "cell_type": "markdown",
   "metadata": {},
   "source": [
    "## Answer\n",
    "\n",
    "ar"
   ]
  },
  {
   "cell_type": "code",
   "execution_count": null,
   "metadata": {},
   "outputs": [],
   "source": []
  }
 ],
 "metadata": {
  "kernelspec": {
   "display_name": "Python 3",
   "language": "python",
   "name": "python3"
  },
  "language_info": {
   "codemirror_mode": {
    "name": "ipython",
    "version": 3
   },
   "file_extension": ".py",
   "mimetype": "text/x-python",
   "name": "python",
   "nbconvert_exporter": "python",
   "pygments_lexer": "ipython3",
   "version": "3.7.4"
  }
 },
 "nbformat": 4,
 "nbformat_minor": 4
}
